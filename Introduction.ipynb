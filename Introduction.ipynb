{
 "cells": [
  {
   "cell_type": "markdown",
   "metadata": {},
   "source": [
    "# The Battle Of Neighborhoods- Part 1"
   ]
  },
  {
   "cell_type": "markdown",
   "metadata": {},
   "source": [
    "## Introduction"
   ]
  },
  {
   "cell_type": "markdown",
   "metadata": {},
   "source": [
    "##### Christos's Yogurt is a popular greek yogurt manufacturer in India. To expand their business, they need to launch their distribution centers all across different locations in India."
   ]
  },
  {
   "cell_type": "markdown",
   "metadata": {},
   "source": [
    "## Detailed Problem Statement"
   ]
  },
  {
   "cell_type": "markdown",
   "metadata": {},
   "source": [
    "##### The manufacturing plant (Original Equipment Manufacturer-OEM) tradeswith Tier 1 Suppliers, who in turn trade with Tier 2 Suppliers and Tier-3 Suppliers.\n",
    "\n",
    "##### In this project, following are the Tier 1, Tier 2 and Tier 3 Supplier:\n",
    "##### 1. Tier 1 Supplier - X\n",
    "##### 2. Tier 2 Supplier - Y\n",
    "##### 3. Tier 3 Supplier - Z\n",
    "\n",
    "##### The Tier-1 suppliers are in direct contact with the OEM and they propose the \"Demand\" parameter to the OEM. For the manufacturing of the Yogurt, two important costs are involved - \"Fixed Cost\" and \"Variable Cost\" [which depends on the quantity of the product]. \n",
    "\n",
    "##### Also, there is a \"Capacity Constraint\" involved in the OEM.\n"
   ]
  },
  {
   "cell_type": "markdown",
   "metadata": {},
   "source": [
    "##### Now Christos wants to open the Distribution Centers at various locations in India. To open a Distribution Center(like a factory), various costs are involved in it. According to the problem, following are the few parameters that needs to be calculated:\n",
    "\n",
    "#### 1. Distance - \n",
    "##### It is the distance between the OEM(manufacturing plant in Delhi) and the desirable Distribution Center(which needs to be opened) [calculated in kilometers]\n",
    "\n",
    "#### 2. Costs - \n",
    "##### It involve 3 different costs: \n",
    "#####                         2.1 Cost of loading into the truck from OEM ; \n",
    "#####                         2.2 Transportation Cost \n",
    "#####                         2.3 Cost of unloading from truck to Distribution Center\n",
    "\n",
    "#### 3. Supply - \n",
    "##### It is the amount or quantity supplied to the Distribution Centers. [calculated in quantitative numbers]\n"
   ]
  },
  {
   "cell_type": "code",
   "execution_count": null,
   "metadata": {},
   "outputs": [],
   "source": []
  }
 ],
 "metadata": {
  "kernelspec": {
   "display_name": "Python 3",
   "language": "python",
   "name": "python3"
  },
  "language_info": {
   "codemirror_mode": {
    "name": "ipython",
    "version": 3
   },
   "file_extension": ".py",
   "mimetype": "text/x-python",
   "name": "python",
   "nbconvert_exporter": "python",
   "pygments_lexer": "ipython3",
   "version": "3.6.6"
  }
 },
 "nbformat": 4,
 "nbformat_minor": 2
}
