{
 "cells": [
  {
   "cell_type": "markdown",
   "metadata": {},
   "source": [
    "# The Battle Of Neighborhoods- Part 1"
   ]
  },
  {
   "cell_type": "markdown",
   "metadata": {},
   "source": [
    "## Data Section"
   ]
  },
  {
   "cell_type": "markdown",
   "metadata": {},
   "source": [
    "##### The data that would be used to solve this problem is the - Costs, Distance, Locations, Supply (Capacity of OEM)\n",
    "\n",
    "The cost would be sub-divided into 3 categories- Loading cost, Transportation Cost and Unloading costs.\n",
    "The location will be sub-divided into 2 categories- Latitude and Longitude."
   ]
  },
  {
   "cell_type": "markdown",
   "metadata": {},
   "source": [
    "##### There are 5 distribution centers that Christos has thought of opening. These Distribution Centers are named below with their specified locations:\n",
    " 1. DC1 - Pune\n",
    " 2. DC2 - Hyderabad\n",
    " 3. DC3 - Jammu\n",
    " 4. DC4 - Kerela\n",
    " 5. DC5 - Sikkim"
   ]
  },
  {
   "cell_type": "markdown",
   "metadata": {},
   "source": [
    "##### The transportation costs between each production and destination facility are as follows:\n",
    "We need to help Christos to minimize his transportation costs."
   ]
  },
  {
   "cell_type": "markdown",
   "metadata": {},
   "source": [
    "<font size=\"1\">\n",
    "<table font-size:xx-small style=\"width:25%\">\n",
    "  <tr>\n",
    "    <th>Production facility</th>\n",
    "    <th>Destination facility</th> \n",
    "    <th>Shipping costs(Dollars/container)</th>\n",
    "  </tr> \n",
    "  <tr>\n",
    "    <td>Delhi</td>\n",
    "    <td>Pune</td> \n",
    "    <td>1.04</td>  \n",
    "  </tr>    \n",
    "    <tr>\n",
    "    <td>Delhi</td>\n",
    "    <td>Hyderabad</td> \n",
    "    <td>1.27</td>  \n",
    "  </tr>    \n",
    "    <tr>\n",
    "    <td>Delhi</td>\n",
    "    <td>Jammu</td> \n",
    "    <td>0.9</td>  \n",
    "  </tr>  \n",
    "    <tr>\n",
    "    <td>Delhi</td>\n",
    "    <td>Kerela</td> \n",
    "    <td>1.92</td>  \n",
    "  </tr> \n",
    "    <tr>\n",
    "    <td>Delhi</td>\n",
    "    <td>Sikkim</td> \n",
    "    <td>1.55</td>  \n",
    "  </tr>  \n",
    "</table>"
   ]
  },
  {
   "cell_type": "markdown",
   "metadata": {},
   "source": [
    "##### Additionally, Supplier's demand for all cities are as follows:\n",
    "\n",
    "<font size=\"1\">\n",
    "<table font-size:xx-small style=\"width:25%\">\n",
    "    \n",
    "  <tr>\n",
    "    <th>Destination facility</th> \n",
    "    <th>Demand(Containers/week)</th>\n",
    "  </tr>\n",
    "    \n",
    "  <tr>\n",
    "    <td>Pune</td>\n",
    "    <td>11,000</td>     \n",
    "  </tr>\n",
    "    <tr>\n",
    "    <td>Hyderabad</td>\n",
    "    <td>32,000</td>     \n",
    "  </tr>\n",
    "    <tr>\n",
    "    <td>Jammu</td>\n",
    "    <td>20,500</td>     \n",
    "  </tr>\n",
    "    <tr>\n",
    "    <td>Kerela</td>\n",
    "    <td>10,000</td>     \n",
    "  </tr>\n",
    "    <tr>\n",
    "    <td>Sikkim</td>\n",
    "    <td>45,000</td>     \n",
    "  </tr>\n",
    "</table>\n"
   ]
  },
  {
   "cell_type": "markdown",
   "metadata": {},
   "source": [
    "You can see the dataset here:\n",
    "\n",
    "<font size=\"1\">\n",
    "<table font-size:xx-small style=\"width:25%\">\n",
    "  <tr>\n",
    "    <th></th>\n",
    "    <th>Latitude(Degrees)</th> \n",
    "    <th>Longitutde(Degrees)</th>\n",
    "    <th>City</th>\n",
    "    <th>#Supply</th> \n",
    "    <th>Distance(kms)</th>\n",
    "    <th>Loading Cost(Dollars)</th>\n",
    "    <th>Transportation Cost(Dollars)</th>\n",
    "    <th>Unloading Cost(Dollars)</th>\n",
    "  </tr>\n",
    "  <tr>\n",
    "    <td>DC1</td>\n",
    "    <td>73.8567° E</td> \n",
    "    <td>18.5204° N</td>\n",
    "    <td>Pune</td>\n",
    "    <td>23,000</td>\n",
    "    <td>1477.6</td>\n",
    "    <td>120</td>\n",
    "    <td>1230</td>\n",
    "    <td>100</td>\n",
    "  </tr>\n",
    "    <tr>\n",
    "    <td>DC2</td>\n",
    "    <td>78.4867° E</td> \n",
    "    <td>17.3850° N</td>\n",
    "    <td>Hyderabad</td>\n",
    "    <td>4,000</td>\n",
    "    <td>1585.7</td>\n",
    "    <td>80</td>\n",
    "    <td>890</td>\n",
    "    <td>300</td>\n",
    "  </tr>\n",
    "    <tr>\n",
    "    <td>DC3</td>\n",
    "    <td>74.8570° E</td> \n",
    "    <td>32.7266° N</td>\n",
    "    <td>Jammu</td>\n",
    "    <td>15,000</td>\n",
    "    <td>589.1</td>\n",
    "    <td>20</td>\n",
    "    <td>889</td>\n",
    "    <td>40</td>\n",
    "  </tr>\n",
    "    <tr>\n",
    "    <td>DC4</td>\n",
    "    <td>76.2711° E</td> \n",
    "    <td>10.8505° N</td>\n",
    "    <td>Kerela</td>\n",
    "    <td>800</td>\n",
    "    <td>2645.5</td>\n",
    "    <td>400</td>\n",
    "    <td>9200</td>\n",
    "    <td>500</td>\n",
    "  </tr>\n",
    "    <tr>\n",
    "    <td>DC5</td>\n",
    "    <td>88.5122° E</td> \n",
    "    <td>27.5330° N</td>\n",
    "    <td>Sikkim</td>\n",
    "    <td>90,00</td>\n",
    "    <td>1601.3</td>\n",
    "    <td>360</td>\n",
    "    <td>4200</td>\n",
    "    <td>650</td>\n",
    "  </tr>\n",
    "    </table>\n"
   ]
  }
 ],
 "metadata": {
  "kernelspec": {
   "display_name": "Python 3",
   "language": "python",
   "name": "python3"
  },
  "language_info": {
   "codemirror_mode": {
    "name": "ipython",
    "version": 3
   },
   "file_extension": ".py",
   "mimetype": "text/x-python",
   "name": "python",
   "nbconvert_exporter": "python",
   "pygments_lexer": "ipython3",
   "version": "3.6.6"
  }
 },
 "nbformat": 4,
 "nbformat_minor": 2
}
